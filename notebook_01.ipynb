{
 "cells": [
  {
   "cell_type": "markdown",
   "metadata": {},
   "source": [
    "### **NOTEBOOK**\n",
    "###### **By** ***Gary Y. Martinez Alvis***\n",
    "---"
   ]
  },
  {
   "cell_type": "markdown",
   "metadata": {},
   "source": [
    "> Reto: Calculadora de promedios de notas\n",
    "> 1. Implementa la función calcular_promedio que tome una lista de notas y devuelva su promedio.\n",
    "> 2. Permite al usuario ingresar notas (pueden ser números flotantes) una por una.\n",
    "> 3. El usuario deberá indicar cuándo ha terminado de ingresar notas (puede ser ingresando un valor específico, como -1).\n",
    "> 4. Calcula el promedio de las notas ingresadas utilizando la función calcular_promedio.\n",
    "> 5. Imprime el promedio calculado."
   ]
  },
  {
   "cell_type": "code",
   "execution_count": 9,
   "metadata": {},
   "outputs": [],
   "source": [
    "# Calculadora de Promedio de Notas\n",
    "def calculadora_promedio(notas: list) -> float:\n",
    "    result = sum(notas) / len(notas)\n",
    "    return result"
   ]
  },
  {
   "cell_type": "code",
   "execution_count": 10,
   "metadata": {},
   "outputs": [],
   "source": [
    "# Lista para el almacenamiento de notas por el usuario\n",
    "notas = []"
   ]
  },
  {
   "cell_type": "code",
   "execution_count": 11,
   "metadata": {},
   "outputs": [],
   "source": [
    "# Código para ingresar notas hasta que el usuario decida terminar\n",
    "while True:\n",
    "    nota = float(input('Ingresa tu nota: '))\n",
    "    if nota != -1:\n",
    "        notas.append(nota)\n",
    "    else:\n",
    "        break"
   ]
  },
  {
   "cell_type": "code",
   "execution_count": 12,
   "metadata": {},
   "outputs": [
    {
     "name": "stdout",
     "output_type": "stream",
     "text": [
      "34.166666666666664\n"
     ]
    }
   ],
   "source": [
    "# Llamada a la función calcular_promedio y mostrar el resultado\n",
    "my_promedio = calculadora_promedio(notas)\n",
    "print(my_promedio)"
   ]
  }
 ],
 "metadata": {
  "kernelspec": {
   "display_name": "Python 3",
   "language": "python",
   "name": "python3"
  },
  "language_info": {
   "codemirror_mode": {
    "name": "ipython",
    "version": 3
   },
   "file_extension": ".py",
   "mimetype": "text/x-python",
   "name": "python",
   "nbconvert_exporter": "python",
   "pygments_lexer": "ipython3",
   "version": "3.11.5"
  }
 },
 "nbformat": 4,
 "nbformat_minor": 2
}
