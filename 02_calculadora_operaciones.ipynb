{
 "cells": [
  {
   "cell_type": "markdown",
   "metadata": {},
   "source": [
    "### **NOTEBOOK**\n",
    "##### Calculadora de operaciones\n",
    "###### **By** ***Gary Y. Martinez Alvis***\n",
    "---"
   ]
  },
  {
   "cell_type": "markdown",
   "metadata": {},
   "source": [
    "> Reto: Función operación matemática\n",
    "> 1. Implementa la función calcular_operacion que acepte dos números y una cadena que representa la operación matemática (por ejemplo, \"suma\", \"resta\", \"multiplicación\", \"división\").\n",
    "> 2. La función debe verificar si la operación es válida y realizar la operación correspondiente.\n",
    "> 3. En caso de recibir una operación no válida o un error en los cálculos (como división por cero), la función debe manejar estos casos adecuadamente.\n",
    "> 4. Prueba la función con varios ejemplos para asegurar su correcto funcionamiento."
   ]
  },
  {
   "cell_type": "code",
   "execution_count": 10,
   "metadata": {},
   "outputs": [],
   "source": [
    "# Calculadora de operaciones\n",
    "def calcular_promedio(num1: float, num2: float, operacion: str) -> float:\n",
    "    # Verificar si la lista de notas está vacía para evitar la división por cero\n",
    "    if not notas:\n",
    "        return 0.0  # Devolver 0.0 para evitar errores en la división\n",
    "\n",
    "    # Calcular el promedio y devolver el resultado\n",
    "    result = sum(notas) / len(notas)\n",
    "    return result"
   ]
  },
  {
   "cell_type": "code",
   "execution_count": 11,
   "metadata": {},
   "outputs": [],
   "source": [
    "# Lista para el almacenamiento de notas por el usuario\n",
    "notas = []"
   ]
  },
  {
   "cell_type": "code",
   "execution_count": 12,
   "metadata": {},
   "outputs": [],
   "source": [
    "# Código para ingresar notas hasta que el usuario decida terminar\n",
    "while True:\n",
    "    try:\n",
    "        nota = float(input('Ingresa tu nota (o -1 para terminar): '))\n",
    "        if nota != -1:\n",
    "            notas.append(nota)\n",
    "        else:\n",
    "            break\n",
    "    except ValueError:\n",
    "        print(\"Por favor, ingresa un número válido.\")\n"
   ]
  },
  {
   "cell_type": "code",
   "execution_count": 13,
   "metadata": {},
   "outputs": [
    {
     "name": "stdout",
     "output_type": "stream",
     "text": [
      "77.0\n"
     ]
    }
   ],
   "source": [
    "# Llamada a la función calcular_promedio y mostrar el resultado\n",
    "my_promedio = calcular_promedio(notas)\n",
    "print(my_promedio)"
   ]
  }
 ],
 "metadata": {
  "kernelspec": {
   "display_name": "Python 3",
   "language": "python",
   "name": "python3"
  },
  "language_info": {
   "codemirror_mode": {
    "name": "ipython",
    "version": 3
   },
   "file_extension": ".py",
   "mimetype": "text/x-python",
   "name": "python",
   "nbconvert_exporter": "python",
   "pygments_lexer": "ipython3",
   "version": "3.11.5"
  }
 },
 "nbformat": 4,
 "nbformat_minor": 2
}
