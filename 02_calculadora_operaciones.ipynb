{
 "cells": [
  {
   "cell_type": "markdown",
   "metadata": {},
   "source": [
    "### **NOTEBOOK**\n",
    "##### Calculadora de operaciones\n",
    "###### **By** ***Gary Y. Martinez Alvis***\n",
    "---"
   ]
  },
  {
   "cell_type": "markdown",
   "metadata": {},
   "source": [
    "> Reto: Función operación matemática\n",
    "> 1. Implementa la función calcular_operacion que acepte dos números y una cadena que representa la operación matemática (por ejemplo, \"suma\", \"resta\", \"multiplicación\", \"división\").\n",
    "> 2. La función debe verificar si la operación es válida y realizar la operación correspondiente.\n",
    "> 3. En caso de recibir una operación no válida o un error en los cálculos (como división por cero), la función debe manejar estos casos adecuadamente.\n",
    "> 4. Prueba la función con varios ejemplos para asegurar su correcto funcionamiento."
   ]
  },
  {
   "cell_type": "code",
   "execution_count": 17,
   "metadata": {},
   "outputs": [],
   "source": [
    "# Calculadora de operaciones\n",
    "def calcular_operacion(num1: float, num2: float, operacion: str) -> float:\n",
    "    operaciones_validas = {\n",
    "        'suma': lambda x,y: x + y,\n",
    "        'resta': lambda x,y: x - y, \n",
    "        'multiplicacion': lambda x,y: x * y, \n",
    "        'division': lambda x,y: x / y if y != 0 else 'Operacion no divisible entre 0'\n",
    "    }\n",
    "\n",
    "    try:\n",
    "        if operacion not in operaciones_validas:\n",
    "            raise ValueError('Operacion no valida')\n",
    "\n",
    "        resultado = operaciones_validas[operacion](num1, num2) \n",
    "        return resultado\n",
    "\n",
    "    except ValueError as e:\n",
    "        return str(e)\n",
    "    "
   ]
  },
  {
   "cell_type": "code",
   "execution_count": 18,
   "metadata": {},
   "outputs": [
    {
     "name": "stdout",
     "output_type": "stream",
     "text": [
      "7\n",
      "3\n",
      "10\n",
      "2.5\n",
      "Operacion no divisible entre 0\n",
      "Operacion no valida\n"
     ]
    }
   ],
   "source": [
    "# Llamada a la función calcular_operacion y mostrar el resultado\n",
    "print(calcular_operacion(5, 2, 'suma'))\n",
    "print(calcular_operacion(5, 2, 'resta'))\n",
    "print(calcular_operacion(5, 2, 'multiplicacion'))\n",
    "print(calcular_operacion(5, 2, 'division'))\n",
    "print(calcular_operacion(5, 0, 'division'))\n",
    "print(calcular_operacion(5, 2, 'potencia'))"
   ]
  }
 ],
 "metadata": {
  "kernelspec": {
   "display_name": "Python 3",
   "language": "python",
   "name": "python3"
  },
  "language_info": {
   "codemirror_mode": {
    "name": "ipython",
    "version": 3
   },
   "file_extension": ".py",
   "mimetype": "text/x-python",
   "name": "python",
   "nbconvert_exporter": "python",
   "pygments_lexer": "ipython3",
   "version": "3.11.5"
  }
 },
 "nbformat": 4,
 "nbformat_minor": 2
}
